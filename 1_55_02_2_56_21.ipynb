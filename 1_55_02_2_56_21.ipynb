{
  "nbformat": 4,
  "nbformat_minor": 0,
  "metadata": {
    "colab": {
      "provenance": [],
      "gpuType": "T4",
      "authorship_tag": "ABX9TyON1UIT7xC20vSV5xTtjckx",
      "include_colab_link": true
    },
    "kernelspec": {
      "name": "python3",
      "display_name": "Python 3"
    },
    "language_info": {
      "name": "python"
    },
    "accelerator": "GPU"
  },
  "cells": [
    {
      "cell_type": "markdown",
      "metadata": {
        "id": "view-in-github",
        "colab_type": "text"
      },
      "source": [
        "<a href=\"https://colab.research.google.com/github/taharamay123/my-codes/blob/main/1_55_02_2_56_21.ipynb\" target=\"_parent\"><img src=\"https://colab.research.google.com/assets/colab-badge.svg\" alt=\"Open In Colab\"/></a>"
      ]
    },
    {
      "cell_type": "code",
      "execution_count": 1,
      "metadata": {
        "id": "GHYs6UJ5etqU"
      },
      "outputs": [],
      "source": [
        "import tensorflow as tf\n",
        "import numpy as np"
      ]
    },
    {
      "cell_type": "code",
      "source": [
        "x_1=([1,3,4],[5,6,7])\n",
        "x_2=([4,5,6],[1,5,6],[5,3,9])\n",
        "tf.linalg.matmul(\n",
        "    x_1,\n",
        "    x_2,\n",
        "    transpose_a=False,\n",
        "    transpose_b=False,\n",
        "    adjoint_a=False,\n",
        "    adjoint_b=False,\n",
        "    a_is_sparse=False,\n",
        "    b_is_sparse=False,\n",
        "    output_type=None,\n",
        "    name=None\n",
        ")"
      ],
      "metadata": {
        "colab": {
          "base_uri": "https://localhost:8080/"
        },
        "id": "o8xxACX0foMJ",
        "outputId": "ee3f8d6e-e367-47ac-a731-521214d38cd2"
      },
      "execution_count": 9,
      "outputs": [
        {
          "output_type": "execute_result",
          "data": {
            "text/plain": [
              "<tf.Tensor: shape=(2, 3), dtype=int32, numpy=\n",
              "array([[ 27,  32,  60],\n",
              "       [ 61,  76, 129]], dtype=int32)>"
            ]
          },
          "metadata": {},
          "execution_count": 9
        }
      ]
    },
    {
      "cell_type": "code",
      "source": [
        "print(tf.transpose(x_1))"
      ],
      "metadata": {
        "colab": {
          "base_uri": "https://localhost:8080/"
        },
        "id": "ELutZXvfhA2O",
        "outputId": "dcd83f01-8925-4908-abc8-cc9a4a3789b6"
      },
      "execution_count": 5,
      "outputs": [
        {
          "output_type": "stream",
          "name": "stdout",
          "text": [
            "tf.Tensor(\n",
            "[[1 5]\n",
            " [3 6]\n",
            " [4 7]], shape=(3, 2), dtype=int32)\n"
          ]
        }
      ]
    },
    {
      "cell_type": "code",
      "source": [
        "x1=tf.constant([[[1,2,0],\n",
        "               [3,5,-1]],\n",
        "               [[10,2,0],\n",
        "              [1,0,2]],\n",
        "              [[5,8,0],\n",
        "              [2,7,0]],\n",
        "             [[2,1,9],\n",
        "            [4,-3,32]]])\n",
        "\n",
        "x2=tf.constant([[[1,2,0],\n",
        "                [3,5,-1],\n",
        "                 [4,5,7]],\n",
        "                [[10,2,0],\n",
        "                [1,0,2],\n",
        "                 [4,5,7]],\n",
        "                [[5,8,0],\n",
        "                [2,7,0],\n",
        "                 [4,5,7]],\n",
        "                [[2,1,9,],\n",
        "              [4,-3,32],\n",
        "                 [4,5,7]]])\n",
        "tf.linalg.matmul(\n",
        "    x1,\n",
        "    x,\n",
        "    transpose_a=False,\n",
        "    transpose_b=False,\n",
        "    adjoint_a=False,\n",
        "    adjoint_b=False,\n",
        "    a_is_sparse=False,\n",
        "    b_is_sparse=False,\n",
        "    output_type=None,\n",
        "    name=None\n",
        ")"
      ],
      "metadata": {
        "colab": {
          "base_uri": "https://localhost:8080/"
        },
        "id": "PPiy3L7Lhjxu",
        "outputId": "a4a1501f-0dde-4737-eea0-60b4a54cafc7"
      },
      "execution_count": 17,
      "outputs": [
        {
          "output_type": "execute_result",
          "data": {
            "text/plain": [
              "<tf.Tensor: shape=(4, 2, 3), dtype=int32, numpy=\n",
              "array([[[  7,  12,  -2],\n",
              "        [ 14,  26, -12]],\n",
              "\n",
              "       [[102,  20,   4],\n",
              "        [ 18,  12,  14]],\n",
              "\n",
              "       [[ 41,  96,   0],\n",
              "        [ 24,  65,   0]],\n",
              "\n",
              "       [[ 44,  44, 113],\n",
              "        [124, 173, 164]]], dtype=int32)>"
            ]
          },
          "metadata": {},
          "execution_count": 17
        }
      ]
    },
    {
      "cell_type": "code",
      "source": [
        "x1=tf.constant([[1,2,0],\n",
        "               [3,5,-1],\n",
        "               [10,2,0]],dtype=tf.float32)\n",
        "x11=tf.linalg.inv(x1)\n",
        "print(x11)"
      ],
      "metadata": {
        "colab": {
          "base_uri": "https://localhost:8080/"
        },
        "id": "hgppucYOoWGE",
        "outputId": "5a4196dd-f134-4aa3-f454-6b25768f7c59"
      },
      "execution_count": 9,
      "outputs": [
        {
          "output_type": "stream",
          "name": "stdout",
          "text": [
            "tf.Tensor(\n",
            "[[-0.11111111  0.          0.11111111]\n",
            " [ 0.5555556  -0.         -0.05555556]\n",
            " [ 2.4444444  -1.          0.05555556]], shape=(3, 3), dtype=float32)\n"
          ]
        }
      ]
    },
    {
      "cell_type": "code",
      "source": [
        "\n",
        "print(tf.linalg.svd(x1))"
      ],
      "metadata": {
        "colab": {
          "base_uri": "https://localhost:8080/",
          "height": 165
        },
        "id": "43wDfjlMzspp",
        "outputId": "188270be-77f0-41eb-ff32-b2c9138c0215"
      },
      "execution_count": 2,
      "outputs": [
        {
          "output_type": "error",
          "ename": "NameError",
          "evalue": "ignored",
          "traceback": [
            "\u001b[0;31m---------------------------------------------------------------------------\u001b[0m",
            "\u001b[0;31mNameError\u001b[0m                                 Traceback (most recent call last)",
            "\u001b[0;32m<ipython-input-2-de27a17bcfe1>\u001b[0m in \u001b[0;36m<cell line: 1>\u001b[0;34m()\u001b[0m\n\u001b[0;32m----> 1\u001b[0;31m \u001b[0mprint\u001b[0m\u001b[0;34m(\u001b[0m\u001b[0mtf\u001b[0m\u001b[0;34m.\u001b[0m\u001b[0mlinalg\u001b[0m\u001b[0;34m.\u001b[0m\u001b[0msvd\u001b[0m\u001b[0;34m(\u001b[0m\u001b[0mx1\u001b[0m\u001b[0;34m)\u001b[0m\u001b[0;34m)\u001b[0m\u001b[0;34m\u001b[0m\u001b[0;34m\u001b[0m\u001b[0m\n\u001b[0m",
            "\u001b[0;31mNameError\u001b[0m: name 'x1' is not defined"
          ]
        }
      ]
    },
    {
      "cell_type": "code",
      "source": [],
      "metadata": {
        "id": "fyl1vK_k1GIp"
      },
      "execution_count": null,
      "outputs": []
    }
  ]
}