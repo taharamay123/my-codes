{
  "cells": [
    {
      "cell_type": "markdown",
      "metadata": {
        "id": "view-in-github",
        "colab_type": "text"
      },
      "source": [
        "<a href=\"https://colab.research.google.com/github/taharamay123/my-codes/blob/main/1_7_1_55.ipynb\" target=\"_parent\"><img src=\"https://colab.research.google.com/assets/colab-badge.svg\" alt=\"Open In Colab\"/></a>"
      ]
    },
    {
      "cell_type": "code",
      "execution_count": 1,
      "metadata": {
        "id": "2MCRA1EjIoIS"
      },
      "outputs": [],
      "source": [
        "import tensorflow as tf\n",
        "import numpy as np"
      ]
    },
    {
      "cell_type": "code",
      "execution_count": 2,
      "metadata": {
        "colab": {
          "base_uri": "https://localhost:8080/"
        },
        "id": "nfXu4gl9JiiB",
        "outputId": "55ff758b-1d8b-4cf5-e4bc-3e3c901d2414"
      },
      "outputs": [
        {
          "output_type": "stream",
          "name": "stdout",
          "text": [
            "tf.Tensor([ 2  3  4  5  6  7  8  9 10], shape=(9,), dtype=int32)\n",
            "tf.Tensor([2 3 4 5 6], shape=(5,), dtype=int32)\n",
            "tf.Tensor([4 5 6 7], shape=(4,), dtype=int32)\n",
            "tf.Tensor([3 6 9], shape=(3,), dtype=int32)\n"
          ]
        }
      ],
      "source": [
        "tensor_indexed=tf.constant([2,3,4,5,6,7,8,9,10])\n",
        "print(tensor_indexed)\n",
        "print(tensor_indexed[0:5])\n",
        "print(tensor_indexed[2:6])\n",
        "print(tensor_indexed[1:8:3])"
      ]
    },
    {
      "cell_type": "markdown",
      "metadata": {
        "id": "rCTjX_wzLxOi"
      },
      "source": [
        "Multi dimensional arrays"
      ]
    },
    {
      "cell_type": "code",
      "execution_count": 3,
      "metadata": {
        "colab": {
          "base_uri": "https://localhost:8080/"
        },
        "id": "s3OawzUXL25A",
        "outputId": "0b52e313-b1b8-4dcc-9acb-364cf2859655"
      },
      "outputs": [
        {
          "output_type": "stream",
          "name": "stdout",
          "text": [
            "tf.Tensor([10 11 12], shape=(3,), dtype=int32)\n"
          ]
        }
      ],
      "source": [
        "tensor_two_d=tf.constant([[1,2,3],\n",
        "                  [4,5,6],\n",
        "                  [7,8,9],\n",
        "                  [10,11,12]])\n",
        "print(tensor_two_d[-1,0:3])"
      ]
    },
    {
      "cell_type": "code",
      "execution_count": 4,
      "metadata": {
        "colab": {
          "base_uri": "https://localhost:8080/"
        },
        "id": "Vau2sznNMC2Q",
        "outputId": "c969c821-7296-4447-b0bd-bc76c5757f19"
      },
      "outputs": [
        {
          "output_type": "stream",
          "name": "stdout",
          "text": [
            "tf.Tensor(\n",
            "[[1 2]\n",
            " [4 5]], shape=(2, 2), dtype=int32)\n"
          ]
        }
      ],
      "source": [
        "tensor_three_d=tf.constant([\n",
        "    [[1,2,3],\n",
        "    [4,5,6],],\n",
        " [   [7,8,9],\n",
        "    [10,11,12],\n",
        "]\n",
        "])\n",
        "print(tensor_three_d[0,0:2,0:2])"
      ]
    },
    {
      "cell_type": "code",
      "execution_count": 5,
      "metadata": {
        "id": "ORTmLJWWNr71"
      },
      "outputs": [],
      "source": [
        "\n",
        "x = tf.constant([-2.25, 3.25])"
      ]
    },
    {
      "cell_type": "code",
      "execution_count": 12,
      "metadata": {
        "id": "Dvkgc-xXiXue",
        "colab": {
          "base_uri": "https://localhost:8080/"
        },
        "outputId": "3eaf4546-7167-4f8f-ee82-19e679012f11"
      },
      "outputs": [
        {
          "output_type": "stream",
          "name": "stdout",
          "text": [
            "tf.Tensor(2, shape=(), dtype=int64)\n"
          ]
        }
      ],
      "source": [
        "x_arg=([2,20,32,4])\n",
        "print(tf.math.argmax(x_arg))"
      ]
    },
    {
      "cell_type": "code",
      "source": [
        "print(tf.math.argmin(x_arg))"
      ],
      "metadata": {
        "colab": {
          "base_uri": "https://localhost:8080/"
        },
        "id": "wwaTM6iHWLH2",
        "outputId": "a5e8fb6e-9cba-4e3b-b781-9e8ee7f9d15b"
      },
      "execution_count": 13,
      "outputs": [
        {
          "output_type": "stream",
          "name": "stdout",
          "text": [
            "tf.Tensor(0, shape=(), dtype=int64)\n"
          ]
        }
      ]
    },
    {
      "cell_type": "code",
      "source": [
        "tensor_two_d=tf.constant([[1,2,3],\n",
        "                  [4,5,6],\n",
        "                  [7,8,900],\n",
        "                  [10,1,12]])\n",
        "print(tf.math.argmin(tensor_two_d,axis=1))"
      ],
      "metadata": {
        "colab": {
          "base_uri": "https://localhost:8080/"
        },
        "id": "xv9DMri9WodY",
        "outputId": "eb0fc96e-b79c-4cea-911a-c4e6aece1cbd"
      },
      "execution_count": 22,
      "outputs": [
        {
          "output_type": "stream",
          "name": "stdout",
          "text": [
            "tf.Tensor([0 0 0 1], shape=(4,), dtype=int64)\n"
          ]
        }
      ]
    },
    {
      "cell_type": "code",
      "source": [
        "print(tf.pow(tensor_two_d,tensor_two_d))"
      ],
      "metadata": {
        "colab": {
          "base_uri": "https://localhost:8080/"
        },
        "id": "f7lPYbVAWyp7",
        "outputId": "4e4c8506-1e31-472d-b108-34f1bed5996e"
      },
      "execution_count": 25,
      "outputs": [
        {
          "output_type": "stream",
          "name": "stdout",
          "text": [
            "tf.Tensor(\n",
            "[[         1          4         27]\n",
            " [       256       3125      46656]\n",
            " [    823543   16777216          0]\n",
            " [1410065408          1 -251658240]], shape=(4, 3), dtype=int32)\n"
          ]
        }
      ]
    },
    {
      "cell_type": "code",
      "source": [],
      "metadata": {
        "id": "Kr2GGJ8JcDSW"
      },
      "execution_count": null,
      "outputs": []
    }
  ],
  "metadata": {
    "accelerator": "GPU",
    "colab": {
      "provenance": [],
      "gpuType": "T4",
      "authorship_tag": "ABX9TyOtQvHViPTSTDmbvzfdK38M",
      "include_colab_link": true
    },
    "kernelspec": {
      "display_name": "Python 3",
      "name": "python3"
    },
    "language_info": {
      "name": "python"
    }
  },
  "nbformat": 4,
  "nbformat_minor": 0
}