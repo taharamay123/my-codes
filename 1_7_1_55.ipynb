{
  "nbformat": 4,
  "nbformat_minor": 0,
  "metadata": {
    "colab": {
      "provenance": [],
      "gpuType": "T4",
      "authorship_tag": "ABX9TyMDQ6gG7BZEe+89fgI2bb6d",
      "include_colab_link": true
    },
    "kernelspec": {
      "name": "python3",
      "display_name": "Python 3"
    },
    "language_info": {
      "name": "python"
    },
    "accelerator": "GPU"
  },
  "cells": [
    {
      "cell_type": "markdown",
      "metadata": {
        "id": "view-in-github",
        "colab_type": "text"
      },
      "source": [
        "<a href=\"https://colab.research.google.com/github/taharamay123/my-codes/blob/main/1_7_1_55.ipynb\" target=\"_parent\"><img src=\"https://colab.research.google.com/assets/colab-badge.svg\" alt=\"Open In Colab\"/></a>"
      ]
    },
    {
      "cell_type": "code",
      "execution_count": 1,
      "metadata": {
        "id": "2MCRA1EjIoIS"
      },
      "outputs": [],
      "source": [
        "import tensorflow as tf\n",
        "import numpy as np"
      ]
    },
    {
      "cell_type": "code",
      "source": [
        "tensor_indexed=tf.constant([2,3,4,5,6,7,8,9,10])\n",
        "print(tensor_indexed)\n",
        "print(tensor_indexed[0:5])\n",
        "print(tensor_indexed[2:6])\n",
        "print(tensor_indexed[1:8:3])"
      ],
      "metadata": {
        "colab": {
          "base_uri": "https://localhost:8080/"
        },
        "id": "nfXu4gl9JiiB",
        "outputId": "95bce0e0-a24a-4e4a-d025-c7f668104edc"
      },
      "execution_count": 8,
      "outputs": [
        {
          "output_type": "stream",
          "name": "stdout",
          "text": [
            "tf.Tensor([ 2  3  4  5  6  7  8  9 10], shape=(9,), dtype=int32)\n",
            "tf.Tensor([2 3 4 5 6], shape=(5,), dtype=int32)\n",
            "tf.Tensor([4 5 6 7], shape=(4,), dtype=int32)\n",
            "tf.Tensor([3 6 9], shape=(3,), dtype=int32)\n"
          ]
        }
      ]
    },
    {
      "cell_type": "markdown",
      "source": [
        "Multi dimensional arrays"
      ],
      "metadata": {
        "id": "rCTjX_wzLxOi"
      }
    },
    {
      "cell_type": "code",
      "source": [
        "tensor_two_d=tf.constant([[1,2,3],\n",
        "                  [4,5,6],\n",
        "                  [7,8,9],\n",
        "                  [10,11,12]])\n",
        "print(tensor_two_d[-1,0:3])"
      ],
      "metadata": {
        "colab": {
          "base_uri": "https://localhost:8080/"
        },
        "id": "s3OawzUXL25A",
        "outputId": "e00fca18-d369-4963-eb7b-f1fc589b7ba2"
      },
      "execution_count": 23,
      "outputs": [
        {
          "output_type": "stream",
          "name": "stdout",
          "text": [
            "tf.Tensor([10 11 12], shape=(3,), dtype=int32)\n"
          ]
        }
      ]
    },
    {
      "cell_type": "code",
      "source": [
        "tensor_three_d=tf.constant([\n",
        "    [[1,2,3],\n",
        "    [4,5,6],],\n",
        " [   [7,8,9],\n",
        "    [10,11,12],\n",
        "]\n",
        "])\n",
        "print(tensor_three_d[0,0:2,0:2])"
      ],
      "metadata": {
        "colab": {
          "base_uri": "https://localhost:8080/"
        },
        "id": "Vau2sznNMC2Q",
        "outputId": "edf6e876-000d-4988-f59e-95be603efe14"
      },
      "execution_count": 28,
      "outputs": [
        {
          "output_type": "stream",
          "name": "stdout",
          "text": [
            "tf.Tensor(\n",
            "[[1 2]\n",
            " [4 5]], shape=(2, 2), dtype=int32)\n"
          ]
        }
      ]
    },
    {
      "cell_type": "code",
      "source": [],
      "metadata": {
        "id": "ORTmLJWWNr71"
      },
      "execution_count": null,
      "outputs": []
    }
  ]
}