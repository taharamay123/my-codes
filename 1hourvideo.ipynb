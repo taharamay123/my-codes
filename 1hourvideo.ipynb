{
  "nbformat": 4,
  "nbformat_minor": 0,
  "metadata": {
    "colab": {
      "provenance": [],
      "gpuType": "T4",
      "authorship_tag": "ABX9TyO49OtY22DAePixB6C/4dhm",
      "include_colab_link": true
    },
    "kernelspec": {
      "name": "python3",
      "display_name": "Python 3"
    },
    "language_info": {
      "name": "python"
    },
    "accelerator": "GPU"
  },
  "cells": [
    {
      "cell_type": "markdown",
      "metadata": {
        "id": "view-in-github",
        "colab_type": "text"
      },
      "source": [
        "<a href=\"https://colab.research.google.com/github/taharamay123/my-codes/blob/main/1hourvideo.ipynb\" target=\"_parent\"><img src=\"https://colab.research.google.com/assets/colab-badge.svg\" alt=\"Open In Colab\"/></a>"
      ]
    },
    {
      "cell_type": "code",
      "execution_count": 2,
      "metadata": {
        "id": "afc-ho_szCVl"
      },
      "outputs": [],
      "source": [
        "import tensorflow as tf\n",
        "import numpy as np"
      ]
    },
    {
      "cell_type": "code",
      "source": [
        "tensor_zero_d=tf.constant(4)\n",
        "print(tensor_zero_d)\n",
        "# //it is for creating zero dimensional tensors"
      ],
      "metadata": {
        "colab": {
          "base_uri": "https://localhost:8080/"
        },
        "id": "a8YO_chLzJGr",
        "outputId": "828efc10-cce6-4d84-aa91-1e461d6539a0"
      },
      "execution_count": 3,
      "outputs": [
        {
          "output_type": "stream",
          "name": "stdout",
          "text": [
            "tf.Tensor(4, shape=(), dtype=int32)\n"
          ]
        }
      ]
    },
    {
      "cell_type": "code",
      "source": [
        "tensor_one_d=tf.constant([2,0,3,4/5])\n",
        "print(tensor_one_d)"
      ],
      "metadata": {
        "colab": {
          "base_uri": "https://localhost:8080/"
        },
        "id": "TycCA1j8zV6X",
        "outputId": "c93263e3-680e-42fe-efcc-986d427a5013"
      },
      "execution_count": 4,
      "outputs": [
        {
          "output_type": "stream",
          "name": "stdout",
          "text": [
            "tf.Tensor([2.  0.  3.  0.8], shape=(4,), dtype=float32)\n"
          ]
        }
      ]
    },
    {
      "cell_type": "code",
      "source": [
        "t=tensor_one_d\n",
        "print(t[1])"
      ],
      "metadata": {
        "colab": {
          "base_uri": "https://localhost:8080/"
        },
        "id": "re_VrFSLYbLc",
        "outputId": "8bbc7a53-6b4f-44ee-ca3d-190abfc4ef89"
      },
      "execution_count": null,
      "outputs": [
        {
          "output_type": "stream",
          "name": "stdout",
          "text": [
            "tf.Tensor(0.0, shape=(), dtype=float32)\n"
          ]
        }
      ]
    },
    {
      "cell_type": "code",
      "source": [
        "tensor_two_d=tf.constant(\n",
        "    [[2,0,3,45],\n",
        "    [4,5,6,7],\n",
        "     [7,8,9,10]])\n",
        "print(tensor_two_d)"
      ],
      "metadata": {
        "colab": {
          "base_uri": "https://localhost:8080/"
        },
        "id": "VwF3KwAX2KI-",
        "outputId": "88ce0d7e-dee8-4c44-80f2-4c945260b355"
      },
      "execution_count": null,
      "outputs": [
        {
          "output_type": "stream",
          "name": "stdout",
          "text": [
            "tf.Tensor(\n",
            "[[ 2  0  3 45]\n",
            " [ 4  5  6  7]\n",
            " [ 7  8  9 10]], shape=(3, 4), dtype=int32)\n"
          ]
        }
      ]
    },
    {
      "cell_type": "code",
      "source": [
        "u=tensor_two_d\n",
        "print(u[2,3])"
      ],
      "metadata": {
        "colab": {
          "base_uri": "https://localhost:8080/"
        },
        "id": "usI4uy6FYvSf",
        "outputId": "c84cfc0e-6467-4bb0-8179-195ee7c896b5"
      },
      "execution_count": null,
      "outputs": [
        {
          "output_type": "stream",
          "name": "stdout",
          "text": [
            "tf.Tensor(10, shape=(), dtype=int32)\n"
          ]
        }
      ]
    },
    {
      "cell_type": "code",
      "source": [
        "tensor_three_d=tf.constant([\n",
        "    [[2,1,3,4],\n",
        "    [4,5,6,7]],\n",
        "\n",
        "    [[7,8,9,10],\n",
        "     [1,1,1,1]]\n",
        "    ])\n",
        "\n",
        "print(tensor_three_d)"
      ],
      "metadata": {
        "colab": {
          "base_uri": "https://localhost:8080/"
        },
        "id": "8NjYC1u771qU",
        "outputId": "19573707-8f56-4c17-a069-72f2ff43993c"
      },
      "execution_count": null,
      "outputs": [
        {
          "output_type": "stream",
          "name": "stdout",
          "text": [
            "tf.Tensor(\n",
            "[[[ 2  1  3  4]\n",
            "  [ 4  5  6  7]]\n",
            "\n",
            " [[ 7  8  9 10]\n",
            "  [ 1  1  1  1]]], shape=(2, 2, 4), dtype=int32)\n"
          ]
        }
      ]
    },
    {
      "cell_type": "code",
      "source": [
        "v=tensor_three_d\n",
        "print(v[1,1,3])"
      ],
      "metadata": {
        "colab": {
          "base_uri": "https://localhost:8080/"
        },
        "id": "wKOojovUYYci",
        "outputId": "955b108d-a66c-4099-f17b-a57ee0e78133"
      },
      "execution_count": null,
      "outputs": [
        {
          "output_type": "stream",
          "name": "stdout",
          "text": [
            "tf.Tensor(1, shape=(), dtype=int32)\n"
          ]
        }
      ]
    },
    {
      "cell_type": "code",
      "source": [
        "tensor_four_d=tf.constant(\n",
        "     [[[[1 ,1 , 3 , 4],\n",
        "     [ 4 , 5 , 6 , 7]],\n",
        "\n",
        "     [[ 2 , 8 , 9, 10],\n",
        "     [ 1  ,1  ,1 , 1]]],\n",
        "   [ [[3, 2 ,3, 4],\n",
        "     [5, 6, 7, 8]],\n",
        "     [[11 ,12 ,13 ,14],\n",
        "     [5 ,31, 7, 2]] ]\n",
        "])"
      ],
      "metadata": {
        "id": "WLlmi2UC8hNZ"
      },
      "execution_count": null,
      "outputs": []
    },
    {
      "cell_type": "code",
      "source": [
        "w=tensor_four_d\n",
        "print(w[0,0,0,3])"
      ],
      "metadata": {
        "colab": {
          "base_uri": "https://localhost:8080/"
        },
        "id": "xKLbQn5BZtk-",
        "outputId": "c459440e-c51a-4747-c602-e55285ac943d"
      },
      "execution_count": null,
      "outputs": [
        {
          "output_type": "stream",
          "name": "stdout",
          "text": [
            "tf.Tensor(4, shape=(), dtype=int32)\n"
          ]
        }
      ]
    },
    {
      "cell_type": "code",
      "source": [
        "print(tensor_four_d\n",
        "      )"
      ],
      "metadata": {
        "colab": {
          "base_uri": "https://localhost:8080/"
        },
        "id": "2nvhseLuVCKj",
        "outputId": "17a11a91-ea7e-4078-9c36-5676184e1ebc"
      },
      "execution_count": null,
      "outputs": [
        {
          "output_type": "stream",
          "name": "stdout",
          "text": [
            "tf.Tensor(\n",
            "[[[[ 1  1  3  4]\n",
            "   [ 4  5  6  7]]\n",
            "\n",
            "  [[ 2  8  9 10]\n",
            "   [ 1  1  1  1]]]\n",
            "\n",
            "\n",
            " [[[ 3  2  3  4]\n",
            "   [ 5  6  7  8]]\n",
            "\n",
            "  [[11 12 13 14]\n",
            "   [ 5 31  7  2]]]], shape=(2, 2, 2, 4), dtype=int32)\n"
          ]
        }
      ]
    },
    {
      "cell_type": "code",
      "source": [
        "a=tensor_four_d+tensor_four_d\n",
        "print(a)"
      ],
      "metadata": {
        "colab": {
          "base_uri": "https://localhost:8080/"
        },
        "id": "l8iKawDEXRs6",
        "outputId": "ec968a64-bcdb-4340-a7c7-898689f2fd87"
      },
      "execution_count": null,
      "outputs": [
        {
          "output_type": "stream",
          "name": "stdout",
          "text": [
            "tf.Tensor(\n",
            "[[[[ 2  2  6  8]\n",
            "   [ 8 10 12 14]]\n",
            "\n",
            "  [[ 4 16 18 20]\n",
            "   [ 2  2  2  2]]]\n",
            "\n",
            "\n",
            " [[[ 6  4  6  8]\n",
            "   [10 12 14 16]]\n",
            "\n",
            "  [[22 24 26 28]\n",
            "   [10 62 14  4]]]], shape=(2, 2, 2, 4), dtype=int32)\n"
          ]
        }
      ]
    },
    {
      "cell_type": "code",
      "source": [
        "b=2+tensor_four_d\n",
        "print(b)\n",
        "c=2*tensor_four_d\n",
        "print(c)\n",
        "d=tensor_four_d/2"
      ],
      "metadata": {
        "colab": {
          "base_uri": "https://localhost:8080/"
        },
        "id": "7AQmOtRmdK4a",
        "outputId": "dc0e653c-efe1-49be-a00f-f138fa83a089"
      },
      "execution_count": null,
      "outputs": [
        {
          "output_type": "stream",
          "name": "stdout",
          "text": [
            "tf.Tensor(\n",
            "[[[[ 3  3  5  6]\n",
            "   [ 6  7  8  9]]\n",
            "\n",
            "  [[ 4 10 11 12]\n",
            "   [ 3  3  3  3]]]\n",
            "\n",
            "\n",
            " [[[ 5  4  5  6]\n",
            "   [ 7  8  9 10]]\n",
            "\n",
            "  [[13 14 15 16]\n",
            "   [ 7 33  9  4]]]], shape=(2, 2, 2, 4), dtype=int32)\n",
            "tf.Tensor(\n",
            "[[[[ 2  2  6  8]\n",
            "   [ 8 10 12 14]]\n",
            "\n",
            "  [[ 4 16 18 20]\n",
            "   [ 2  2  2  2]]]\n",
            "\n",
            "\n",
            " [[[ 6  4  6  8]\n",
            "   [10 12 14 16]]\n",
            "\n",
            "  [[22 24 26 28]\n",
            "   [10 62 14  4]]]], shape=(2, 2, 2, 4), dtype=int32)\n"
          ]
        }
      ]
    },
    {
      "cell_type": "code",
      "source": [
        "d=tf.concat([w,w,w], axis=-1)\n",
        "e=tf.concat([w,w,w], axis=0)\n",
        "f=tf.concat([w,w,w], axis=1)\n",
        "g=tf.concat([w,w,w], axis=2)\n",
        "h=tf.concat([w,w,w], axis=3)\n",
        "\n",
        "print(w)\n",
        "print(\"axis=-1\")\n",
        "\n",
        "print(d)\n",
        "print(\"axis=0\")\n",
        "print(e)\n",
        "print(\"axis=1\")\n",
        "print(f)\n",
        "print(\"axis=2\")\n",
        "print(g)\n",
        "print(\"axis=3\")\n",
        "print(h)"
      ],
      "metadata": {
        "colab": {
          "base_uri": "https://localhost:8080/"
        },
        "id": "QV63cNY5dQBf",
        "outputId": "d4a733b2-c53b-405a-8950-2b78e881b246"
      },
      "execution_count": null,
      "outputs": [
        {
          "output_type": "stream",
          "name": "stdout",
          "text": [
            "tf.Tensor(\n",
            "[[[[ 1  1  3  4]\n",
            "   [ 4  5  6  7]]\n",
            "\n",
            "  [[ 2  8  9 10]\n",
            "   [ 1  1  1  1]]]\n",
            "\n",
            "\n",
            " [[[ 3  2  3  4]\n",
            "   [ 5  6  7  8]]\n",
            "\n",
            "  [[11 12 13 14]\n",
            "   [ 5 31  7  2]]]], shape=(2, 2, 2, 4), dtype=int32)\n",
            "axis=-1\n",
            "tf.Tensor(\n",
            "[[[[ 1  1  3  4  1  1  3  4  1  1  3  4]\n",
            "   [ 4  5  6  7  4  5  6  7  4  5  6  7]]\n",
            "\n",
            "  [[ 2  8  9 10  2  8  9 10  2  8  9 10]\n",
            "   [ 1  1  1  1  1  1  1  1  1  1  1  1]]]\n",
            "\n",
            "\n",
            " [[[ 3  2  3  4  3  2  3  4  3  2  3  4]\n",
            "   [ 5  6  7  8  5  6  7  8  5  6  7  8]]\n",
            "\n",
            "  [[11 12 13 14 11 12 13 14 11 12 13 14]\n",
            "   [ 5 31  7  2  5 31  7  2  5 31  7  2]]]], shape=(2, 2, 2, 12), dtype=int32)\n",
            "axis=0\n",
            "tf.Tensor(\n",
            "[[[[ 1  1  3  4]\n",
            "   [ 4  5  6  7]]\n",
            "\n",
            "  [[ 2  8  9 10]\n",
            "   [ 1  1  1  1]]]\n",
            "\n",
            "\n",
            " [[[ 3  2  3  4]\n",
            "   [ 5  6  7  8]]\n",
            "\n",
            "  [[11 12 13 14]\n",
            "   [ 5 31  7  2]]]\n",
            "\n",
            "\n",
            " [[[ 1  1  3  4]\n",
            "   [ 4  5  6  7]]\n",
            "\n",
            "  [[ 2  8  9 10]\n",
            "   [ 1  1  1  1]]]\n",
            "\n",
            "\n",
            " [[[ 3  2  3  4]\n",
            "   [ 5  6  7  8]]\n",
            "\n",
            "  [[11 12 13 14]\n",
            "   [ 5 31  7  2]]]\n",
            "\n",
            "\n",
            " [[[ 1  1  3  4]\n",
            "   [ 4  5  6  7]]\n",
            "\n",
            "  [[ 2  8  9 10]\n",
            "   [ 1  1  1  1]]]\n",
            "\n",
            "\n",
            " [[[ 3  2  3  4]\n",
            "   [ 5  6  7  8]]\n",
            "\n",
            "  [[11 12 13 14]\n",
            "   [ 5 31  7  2]]]], shape=(6, 2, 2, 4), dtype=int32)\n",
            "axis=1\n",
            "tf.Tensor(\n",
            "[[[[ 1  1  3  4]\n",
            "   [ 4  5  6  7]]\n",
            "\n",
            "  [[ 2  8  9 10]\n",
            "   [ 1  1  1  1]]\n",
            "\n",
            "  [[ 1  1  3  4]\n",
            "   [ 4  5  6  7]]\n",
            "\n",
            "  [[ 2  8  9 10]\n",
            "   [ 1  1  1  1]]\n",
            "\n",
            "  [[ 1  1  3  4]\n",
            "   [ 4  5  6  7]]\n",
            "\n",
            "  [[ 2  8  9 10]\n",
            "   [ 1  1  1  1]]]\n",
            "\n",
            "\n",
            " [[[ 3  2  3  4]\n",
            "   [ 5  6  7  8]]\n",
            "\n",
            "  [[11 12 13 14]\n",
            "   [ 5 31  7  2]]\n",
            "\n",
            "  [[ 3  2  3  4]\n",
            "   [ 5  6  7  8]]\n",
            "\n",
            "  [[11 12 13 14]\n",
            "   [ 5 31  7  2]]\n",
            "\n",
            "  [[ 3  2  3  4]\n",
            "   [ 5  6  7  8]]\n",
            "\n",
            "  [[11 12 13 14]\n",
            "   [ 5 31  7  2]]]], shape=(2, 6, 2, 4), dtype=int32)\n",
            "axis=2\n",
            "tf.Tensor(\n",
            "[[[[ 1  1  3  4]\n",
            "   [ 4  5  6  7]\n",
            "   [ 1  1  3  4]\n",
            "   [ 4  5  6  7]\n",
            "   [ 1  1  3  4]\n",
            "   [ 4  5  6  7]]\n",
            "\n",
            "  [[ 2  8  9 10]\n",
            "   [ 1  1  1  1]\n",
            "   [ 2  8  9 10]\n",
            "   [ 1  1  1  1]\n",
            "   [ 2  8  9 10]\n",
            "   [ 1  1  1  1]]]\n",
            "\n",
            "\n",
            " [[[ 3  2  3  4]\n",
            "   [ 5  6  7  8]\n",
            "   [ 3  2  3  4]\n",
            "   [ 5  6  7  8]\n",
            "   [ 3  2  3  4]\n",
            "   [ 5  6  7  8]]\n",
            "\n",
            "  [[11 12 13 14]\n",
            "   [ 5 31  7  2]\n",
            "   [11 12 13 14]\n",
            "   [ 5 31  7  2]\n",
            "   [11 12 13 14]\n",
            "   [ 5 31  7  2]]]], shape=(2, 2, 6, 4), dtype=int32)\n",
            "axis=3\n",
            "tf.Tensor(\n",
            "[[[[ 1  1  3  4  1  1  3  4  1  1  3  4]\n",
            "   [ 4  5  6  7  4  5  6  7  4  5  6  7]]\n",
            "\n",
            "  [[ 2  8  9 10  2  8  9 10  2  8  9 10]\n",
            "   [ 1  1  1  1  1  1  1  1  1  1  1  1]]]\n",
            "\n",
            "\n",
            " [[[ 3  2  3  4  3  2  3  4  3  2  3  4]\n",
            "   [ 5  6  7  8  5  6  7  8  5  6  7  8]]\n",
            "\n",
            "  [[11 12 13 14 11 12 13 14 11 12 13 14]\n",
            "   [ 5 31  7  2  5 31  7  2  5 31  7  2]]]], shape=(2, 2, 2, 12), dtype=int32)\n"
          ]
        }
      ]
    },
    {
      "cell_type": "code",
      "source": [
        "tensor_one_d=tf.constant([2,0.,-3,8,90],dtype=tf.float32)\n",
        "casted_one_tensor=tf.cast(tensor_one_d,dtype=tf.float16)\n",
        "print(tensor_one_d)\n",
        "print(casted_one_tensor)"
      ],
      "metadata": {
        "id": "WR3zggLZfU55",
        "colab": {
          "base_uri": "https://localhost:8080/"
        },
        "outputId": "8a6c9643-ff5d-4681-a081-189cd30d9f09"
      },
      "execution_count": null,
      "outputs": [
        {
          "output_type": "stream",
          "name": "stdout",
          "text": [
            "tf.Tensor([ 2.  0. -3.  8. 90.], shape=(5,), dtype=float32)\n",
            "tf.Tensor([ 2.  0. -3.  8. 90.], shape=(5,), dtype=float16)\n"
          ]
        }
      ]
    },
    {
      "cell_type": "code",
      "source": [
        "tensor_bool=tf.constant([True,False,True])\n",
        "print(tensor_bool)"
      ],
      "metadata": {
        "colab": {
          "base_uri": "https://localhost:8080/"
        },
        "id": "IXwWsT4uiVky",
        "outputId": "11acb250-7bdf-423a-b179-c22398d5d7b6"
      },
      "execution_count": null,
      "outputs": [
        {
          "output_type": "stream",
          "name": "stdout",
          "text": [
            "tf.Tensor([ True False  True], shape=(3,), dtype=bool)\n"
          ]
        }
      ]
    },
    {
      "cell_type": "code",
      "source": [
        "tensor_string=tf.constant([\"hello\",\"numpy\"])\n",
        "print(tensor_string)"
      ],
      "metadata": {
        "colab": {
          "base_uri": "https://localhost:8080/"
        },
        "id": "MbhmN_FRkN8o",
        "outputId": "461f791a-dfd1-4ec7-f728-893a9a450f38"
      },
      "execution_count": null,
      "outputs": [
        {
          "output_type": "stream",
          "name": "stdout",
          "text": [
            "tf.Tensor([b'hello' b'numpy'], shape=(2,), dtype=string)\n"
          ]
        }
      ]
    },
    {
      "cell_type": "markdown",
      "source": [
        "now we will learn how to convert a numpy array into a tensor"
      ],
      "metadata": {
        "id": "BoT4WiP_km7f"
      }
    },
    {
      "cell_type": "code",
      "source": [
        "np_array=np.array([1,2,4])\n",
        "print(np_array)"
      ],
      "metadata": {
        "colab": {
          "base_uri": "https://localhost:8080/"
        },
        "id": "A448qde4khcl",
        "outputId": "753faa8a-4583-4424-b69f-11f90c61fc95"
      },
      "execution_count": null,
      "outputs": [
        {
          "output_type": "stream",
          "name": "stdout",
          "text": [
            "[1 2 4]\n"
          ]
        }
      ]
    },
    {
      "cell_type": "code",
      "source": [
        "converted_tensor= tf.convert_to_tensor(np_array)\n",
        "print(converted_tensor)"
      ],
      "metadata": {
        "colab": {
          "base_uri": "https://localhost:8080/"
        },
        "id": "XTPLw2e8mbXD",
        "outputId": "b74c3e83-797c-4a96-e21a-e24b32f207cb"
      },
      "execution_count": null,
      "outputs": [
        {
          "output_type": "stream",
          "name": "stdout",
          "text": [
            "tf.Tensor([1 2 4], shape=(3,), dtype=int64)\n"
          ]
        }
      ]
    },
    {
      "cell_type": "code",
      "source": [
        "eye_tensor=tf.eye(\n",
        "    num_rows=3,\n",
        "    num_columns=3,\n",
        "    batch_shape=(3,),\n",
        "    dtype=tf.dtypes.float32,\n",
        "    name=None\n",
        ")\n",
        "print(eye_tensor)"
      ],
      "metadata": {
        "colab": {
          "base_uri": "https://localhost:8080/"
        },
        "id": "fWPO-x1clLKK",
        "outputId": "48561f66-cc5a-45cf-958f-3454ad671dd4"
      },
      "execution_count": null,
      "outputs": [
        {
          "output_type": "stream",
          "name": "stdout",
          "text": [
            "tf.Tensor(\n",
            "[[[1. 0. 0.]\n",
            "  [0. 1. 0.]\n",
            "  [0. 0. 1.]]\n",
            "\n",
            " [[1. 0. 0.]\n",
            "  [0. 1. 0.]\n",
            "  [0. 0. 1.]]\n",
            "\n",
            " [[1. 0. 0.]\n",
            "  [0. 1. 0.]\n",
            "  [0. 0. 1.]]], shape=(3, 3, 3), dtype=float32)\n"
          ]
        }
      ]
    },
    {
      "cell_type": "code",
      "source": [
        "fill_tensor=tf.fill([4,3,4],100,name=None\n",
        ")\n",
        "print(fill_tensor)"
      ],
      "metadata": {
        "colab": {
          "base_uri": "https://localhost:8080/"
        },
        "id": "vuUDuKhzmI5u",
        "outputId": "8ff6819d-747e-400c-c91d-de6c75ebb318"
      },
      "execution_count": null,
      "outputs": [
        {
          "output_type": "stream",
          "name": "stdout",
          "text": [
            "tf.Tensor(\n",
            "[[[100 100 100 100]\n",
            "  [100 100 100 100]\n",
            "  [100 100 100 100]]\n",
            "\n",
            " [[100 100 100 100]\n",
            "  [100 100 100 100]\n",
            "  [100 100 100 100]]\n",
            "\n",
            " [[100 100 100 100]\n",
            "  [100 100 100 100]\n",
            "  [100 100 100 100]]\n",
            "\n",
            " [[100 100 100 100]\n",
            "  [100 100 100 100]\n",
            "  [100 100 100 100]]], shape=(4, 3, 4), dtype=int32)\n"
          ]
        }
      ]
    },
    {
      "cell_type": "code",
      "source": [
        "ones_tensors=tf.ones([5,3])\n",
        "print(ones_tensors)"
      ],
      "metadata": {
        "colab": {
          "base_uri": "https://localhost:8080/"
        },
        "id": "WWoX17c0rMz3",
        "outputId": "b23e9b7b-6c91-41d2-c1c9-cdda088180b9"
      },
      "execution_count": null,
      "outputs": [
        {
          "output_type": "stream",
          "name": "stdout",
          "text": [
            "tf.Tensor(\n",
            "[[1. 1. 1.]\n",
            " [1. 1. 1.]\n",
            " [1. 1. 1.]\n",
            " [1. 1. 1.]\n",
            " [1. 1. 1.]], shape=(5, 3), dtype=float32)\n"
          ]
        }
      ]
    },
    {
      "cell_type": "code",
      "source": [
        "ones_fill_tensors=tf.ones_like(fill_tensor)\n",
        "print(fill_tensor)\n",
        "print(ones_fill_tensors)"
      ],
      "metadata": {
        "colab": {
          "base_uri": "https://localhost:8080/"
        },
        "id": "ngFSzWCXv2w8",
        "outputId": "f2ef52f1-7e1c-412c-aac3-361a9b468163"
      },
      "execution_count": null,
      "outputs": [
        {
          "output_type": "stream",
          "name": "stdout",
          "text": [
            "tf.Tensor(\n",
            "[[[100 100 100 100]\n",
            "  [100 100 100 100]\n",
            "  [100 100 100 100]]\n",
            "\n",
            " [[100 100 100 100]\n",
            "  [100 100 100 100]\n",
            "  [100 100 100 100]]\n",
            "\n",
            " [[100 100 100 100]\n",
            "  [100 100 100 100]\n",
            "  [100 100 100 100]]\n",
            "\n",
            " [[100 100 100 100]\n",
            "  [100 100 100 100]\n",
            "  [100 100 100 100]]], shape=(4, 3, 4), dtype=int32)\n",
            "tf.Tensor(\n",
            "[[[1 1 1 1]\n",
            "  [1 1 1 1]\n",
            "  [1 1 1 1]]\n",
            "\n",
            " [[1 1 1 1]\n",
            "  [1 1 1 1]\n",
            "  [1 1 1 1]]\n",
            "\n",
            " [[1 1 1 1]\n",
            "  [1 1 1 1]\n",
            "  [1 1 1 1]]\n",
            "\n",
            " [[1 1 1 1]\n",
            "  [1 1 1 1]\n",
            "  [1 1 1 1]]], shape=(4, 3, 4), dtype=int32)\n"
          ]
        }
      ]
    },
    {
      "cell_type": "code",
      "source": [
        "print(tf.shape(fill_tensor))\n",
        "print(tf.size(fill_tensor))"
      ],
      "metadata": {
        "colab": {
          "base_uri": "https://localhost:8080/"
        },
        "id": "VSx_k9iUwekD",
        "outputId": "73b01bba-0c19-40fe-86a7-82f42b47cefb"
      },
      "execution_count": null,
      "outputs": [
        {
          "output_type": "stream",
          "name": "stdout",
          "text": [
            "tf.Tensor([4 3 4], shape=(3,), dtype=int32)\n",
            "tf.Tensor(48, shape=(), dtype=int32)\n"
          ]
        }
      ]
    },
    {
      "cell_type": "code",
      "source": [],
      "metadata": {
        "id": "T71rDbqDwuEh"
      },
      "execution_count": null,
      "outputs": []
    }
  ]
}